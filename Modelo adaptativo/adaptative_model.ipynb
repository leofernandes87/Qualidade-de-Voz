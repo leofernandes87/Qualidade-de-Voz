{
 "cells": [
  {
   "cell_type": "code",
   "execution_count": 2,
   "metadata": {},
   "outputs": [],
   "source": [
    "import os \n",
    "import pandas as pd\n",
    "import pickle\n",
    "import re\n",
    "from operator import itemgetter\n",
    "import random\n",
    "import seaborn as sns\n",
    "import matplotlib.ticker as ticker\n",
    "from matplotlib import pyplot as plt\n",
    "%matplotlib inline\n",
    "\n",
    "# Define os parametros necessarios para o teste\n",
    "\n",
    "class Parametros:\n",
    "    def __init__(self, seed, length, a, b, n_calls, band, file, modulacao):\n",
    "        self.seed = seed\n",
    "        self.length = length\n",
    "        self.a = a\n",
    "        self.b = b\n",
    "        self.n_calls = n_calls\n",
    "        self.band = band\n",
    "        self.file = file\n",
    "        self.modulacao = modulacao\n",
    "        \n",
    "# Lê arquivo de data utilizado\n",
    "        \n",
    "    def gera_data(self):\n",
    "        a_file = open(self.file, \"rb\")\n",
    "        return pickle.load(a_file)\n",
    "        \n",
    "# Gera o vetor de SNR\n",
    "        \n",
    "    def gera_vetor_snr(self):\n",
    "        random.seed(self.seed)\n",
    "        sinalRuido = []\n",
    "        for i in range(0, self.length):\n",
    "            sinalRuido.append(round(random.uniform(self.a, self.b), 1))\n",
    "        return sinalRuido\n",
    "    \n",
    "# Calcula a banda requerida para cada chamada\n",
    "    \n",
    "    def calcula_banda_requerida(self, rate):\n",
    "        codecRate = 64 # Kbps\n",
    "        codecPayload = 160  # Bytes\n",
    "        pps = 50 # milisegundos\n",
    "        cabecalhoIP = 40 # Bytes \n",
    "        return ((((codecPayload * rate + cabecalhoIP) * 8) * pps) / 1000) * self.n_calls\n",
    "    \n",
    "# Busca o resultado no dataset baseado nos parametros de teste \n",
    "    \n",
    "    def busca_resultados(self, snr):\n",
    "        availableConfigs = []\n",
    "        bandwidth_results = []\n",
    "\n",
    "        for mod, param in self.gera_data().items():\n",
    "            if mod == self.modulacao:\n",
    "                if snr in param.keys():\n",
    "                    for tupla in param.get(snr):\n",
    "                        rate = tupla[3]\n",
    "                        if self.calcula_banda_requerida(rate) <= self.band:\n",
    "                            availableConfigs.append(tupla)\n",
    "        return availableConfigs\n",
    "        \n",
    "# Gera os gráficos de resultados de teste\n",
    "        \n",
    "    def gera_graficos():\n",
    "        pass\n",
    "    \n",
    "    \n",
    "class Teste(Parametros):\n",
    "#     def __init__(self, modulacao, band):\n",
    "#         super().__init__(modulacao, band)\n",
    "\n",
    "\n",
    "    def modelo_adaptativo(self):\n",
    "#         Necessita corrigir!!!\n",
    "        results = []\n",
    "        for snr in self.gera_vetor_snr():\n",
    "            value = sorted(sorted(self.busca_resultados(snr), key=lambda element: element[3]), \n",
    "                key=lambda element: element[0], reverse=True)[0]\n",
    "            results.append(value)\n",
    "        return results\n",
    "            \n",
    "\n",
    "    def modelo_fixo(self, code):\n",
    "        results = []\n",
    "        for snr in self.gera_vetor_snr():\n",
    "            for element in self.busca_resultados(snr):\n",
    "                if element[2] == code:\n",
    "                    value = element\n",
    "                    results.append(value)\n",
    "        return results\n",
    "        \n",
    "        "
   ]
  },
  {
   "cell_type": "code",
   "execution_count": 3,
   "metadata": {},
   "outputs": [],
   "source": [
    "# Args: | Seed | Taanho Vetor SNR | Valor inicial | Valor final | Arquivo de dados | Modulação |\n",
    "resultado = Teste(0, 10, 3, 12, 1, 100, \"data.pkl\", 'BPSK')"
   ]
  },
  {
   "cell_type": "code",
   "execution_count": 4,
   "metadata": {},
   "outputs": [
    {
     "data": {
      "text/plain": [
       "[(4.5, 0.0, 'RS(255, 247)', 1.0323886639676114),\n",
       " (4.5, 0.0, 'RS(255, 247)', 1.0323886639676114),\n",
       " (4.5, 0.0, 'RS(255, 225)', 1.1333333333333333),\n",
       " (4.5, 0.0, 'RS(255, 205)', 1.2439024390243902),\n",
       " (4.5, 0.0, 'RS(255, 225)', 1.1333333333333333),\n",
       " (4.5, 0.0, 'RS(255, 225)', 1.1333333333333333),\n",
       " (4.5, 0.0, 'RS(255, 247)', 1.0323886639676114),\n",
       " (4.5, 0.0, 'RS(240, 200)', 1.2),\n",
       " (4.5, 0.0, 'RS(255, 225)', 1.1333333333333333),\n",
       " (4.5, 0.0, 'RS(255, 247)', 1.0323886639676114)]"
      ]
     },
     "execution_count": 4,
     "metadata": {},
     "output_type": "execute_result"
    }
   ],
   "source": [
    "resultado.modelo_adaptativo()"
   ]
  },
  {
   "cell_type": "code",
   "execution_count": 5,
   "metadata": {},
   "outputs": [
    {
     "data": {
      "text/plain": [
       "[(4.5, 0.0, 'RS(255, 247)', 1.0323886639676114),\n",
       " (4.5, 0.0, 'RS(255, 247)', 1.0323886639676114),\n",
       " (2.1989, 0.00015428, 'RS(255, 247)', 1.0323886639676114),\n",
       " (1.0705, 0.0048315, 'RS(255, 247)', 1.0323886639676114),\n",
       " (4.2875, 1.6333e-06, 'RS(255, 247)', 1.0323886639676114),\n",
       " (1.6405, 0.00034509, 'RS(255, 247)', 1.0323886639676114),\n",
       " (4.5, 0.0, 'RS(255, 247)', 1.0323886639676114),\n",
       " (1.034, 0.0030761, 'RS(255, 247)', 1.0323886639676114),\n",
       " (3.6205, 1.5297999999999998e-05, 'RS(255, 247)', 1.0323886639676114),\n",
       " (4.5, 0.0, 'RS(255, 247)', 1.0323886639676114)]"
      ]
     },
     "execution_count": 5,
     "metadata": {},
     "output_type": "execute_result"
    }
   ],
   "source": [
    "resultado.modelo_fixo('RS(255, 247)')"
   ]
  },
  {
   "cell_type": "code",
   "execution_count": 6,
   "metadata": {},
   "outputs": [
    {
     "data": {
      "text/plain": [
       "[10.6, 9.8, 6.8, 5.3, 7.6, 6.6, 10.1, 5.7, 7.3, 8.3]"
      ]
     },
     "execution_count": 6,
     "metadata": {},
     "output_type": "execute_result"
    }
   ],
   "source": [
    "resultado.gera_vetor_snr()"
   ]
  },
  {
   "cell_type": "code",
   "execution_count": 7,
   "metadata": {},
   "outputs": [],
   "source": [
    "lista = resultado.busca_resultados(4.8)"
   ]
  },
  {
   "cell_type": "code",
   "execution_count": null,
   "metadata": {},
   "outputs": [],
   "source": [
    "def get_maior_mos(tupla):\n",
    "    return sorted(tupla, key=lambda element: element[0], reverse=True)\n",
    "\n",
    "def get_menor_rate(tupla):\n",
    "    return sorted(lista, key=lambda element: element[3])\n",
    "\n",
    "def get_best(tupla):\n",
    "    return sorted(sorted(lista, key=lambda element: element[3]),\n",
    "                  key=lambda element: element[0], reverse=True)\n",
    "    "
   ]
  },
  {
   "cell_type": "code",
   "execution_count": null,
   "metadata": {},
   "outputs": [],
   "source": [
    "# Apartir daqui começa os testes\n",
    "# retorna a lista ordenada com maior MOS e verifica se o maior mos é menor ou igual a 2.8\n",
    "# se for retorna a lista ordenada de acordo com o maior rate\n",
    "\n",
    "if sorted(lista, key=lambda element: element[0], reverse=True)[0][0] < 2.58:\n",
    "    value = sorted(lista, key=lambda element: element[3])[0]\n",
    "elif sorted(lista, key=lambda element: element[0], reverse=True)[0][0] > 4.03:\n",
    "    value = sorted(lista, key=lambda element: element[3], reverse=True)[0]\n",
    "else:\n",
    "    value = sorted(sorted(lista, key=lambda element: element[3]),\n",
    "                   key=lambda element: element[0], reverse=True)[0]\n"
   ]
  }
 ],
 "metadata": {
  "kernelspec": {
   "display_name": "Python 3",
   "language": "python",
   "name": "python3"
  },
  "language_info": {
   "codemirror_mode": {
    "name": "ipython",
    "version": 3
   },
   "file_extension": ".py",
   "mimetype": "text/x-python",
   "name": "python",
   "nbconvert_exporter": "python",
   "pygments_lexer": "ipython3",
   "version": "3.8.3"
  }
 },
 "nbformat": 4,
 "nbformat_minor": 4
}
