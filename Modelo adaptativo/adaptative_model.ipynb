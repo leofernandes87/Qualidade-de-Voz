{
 "cells": [
  {
   "cell_type": "code",
   "execution_count": 1,
   "metadata": {},
   "outputs": [],
   "source": [
    "import os \n",
    "import pandas as pd\n",
    "import pickle\n",
    "import re\n",
    "from operator import itemgetter\n",
    "import random\n",
    "import seaborn as sns\n",
    "import matplotlib.ticker as ticker\n",
    "from matplotlib import pyplot as plt\n",
    "%matplotlib inline\n",
    "\n",
    "# Define os parametros necessarios para o teste\n",
    "\n",
    "class Parametros:\n",
    "    def __init__(self, seed, length, a, b, n_calls, band, file, modulacao):\n",
    "        self.seed = seed\n",
    "        self.length = length\n",
    "        self.a = a\n",
    "        self.b = b\n",
    "        self.n_calls = n_calls\n",
    "        self.band = band\n",
    "        self.file = file\n",
    "        self.modulacao = modulacao\n",
    "        \n",
    "# Lê arquivo de data utilizado\n",
    "        \n",
    "    def gera_data(self):\n",
    "        a_file = open(self.file, \"rb\")\n",
    "        return pickle.load(a_file)\n",
    "        \n",
    "# Gera o vetor de SNR\n",
    "        \n",
    "    def gera_vetor_snr(self):\n",
    "        random.seed(self.seed)\n",
    "        sinalRuido = []\n",
    "        for i in range(0, self.length):\n",
    "            sinalRuido.append(round(random.uniform(self.a, self.b), 1))\n",
    "        return sinalRuido\n",
    "    \n",
    "# Calcula a banda requerida para cada chamada\n",
    "    \n",
    "    def calcula_banda_requerida(self, rate):\n",
    "        codecRate = 64 # Kbps\n",
    "        codecPayload = 160  # Bytes\n",
    "        pps = 50 # milisegundos\n",
    "        cabecalhoIP = 40 # Bytes \n",
    "        return ((((codecPayload * rate + cabecalhoIP) * 8) * pps) / 1000) * self.n_calls\n",
    "    \n",
    "# Busca o resultado no dataset baseado nos parametros de teste \n",
    "    \n",
    "    def busca_resultados(self, snr):\n",
    "        availableConfigs = []\n",
    "        bandwidth_results = []\n",
    "\n",
    "        for mod, param in self.gera_data().items():\n",
    "            if mod == self.modulacao:\n",
    "                if snr in param.keys():\n",
    "                    for tupla in param.get(snr):\n",
    "                        rate = tupla[3]\n",
    "                        if self.calcula_banda_requerida(rate) <= self.band:\n",
    "                            availableConfigs.append(tupla)\n",
    "        return availableConfigs\n",
    "        \n",
    "# Gera os gráficos de resultados de teste\n",
    "        \n",
    "    def gera_graficos():\n",
    "        pass\n",
    "    \n",
    "    \n",
    "class Teste(Parametros):\n",
    "#     def __init__(self, modulacao, band):\n",
    "#         super().__init__(modulacao, band)\n",
    "\n",
    "\n",
    "    def modelo_adaptativo(self):\n",
    "#         Necessita corrigir!!!\n",
    "        results = []\n",
    "        for snr in self.gera_vetor_snr():\n",
    "            value = sorted(sorted(self.busca_resultados(snr), key=lambda element: element[3]), \n",
    "                key=lambda element: element[0], reverse=True)[0]\n",
    "            results.append(value)\n",
    "        return results\n",
    "            \n",
    "\n",
    "    def modelo_fixo(self, **kwargs):\n",
    "        results = []\n",
    "        if kwargs.get('code') == False:\n",
    "            pattern = 'No Code'\n",
    "        else:\n",
    "            try:\n",
    "                n = kwargs['n']\n",
    "                k = kwargs['k']\n",
    "            except:\n",
    "                return []\n",
    "            pattern = 'RS('+ str(n) + ', ' + str(k) + ')'\n",
    "        for snr in self.gera_vetor_snr():\n",
    "            for element in self.busca_resultados(snr):\n",
    "                if element[2] == pattern:\n",
    "                    results.append(element)\n",
    "        return results\n",
    "        \n",
    "        \n",
    "    def compara(self, **kwargs):\n",
    "        test1 = self.modelo_adaptativo()\n",
    "        test2 = self.modelo_fixo(**kwargs)\n",
    "        return test1, test2\n",
    "        \n",
    "        "
   ]
  },
  {
   "cell_type": "code",
   "execution_count": 2,
   "metadata": {},
   "outputs": [],
   "source": [
    "# Args: | Seed | Taanho Vetor SNR | Valor inicial | Valor final | Arquivo de dados | Modulação |\n",
    "resultado = Teste(0, 10, 3, 12, 1, 100, \"data.pkl\", 'BPSK')"
   ]
  },
  {
   "cell_type": "code",
   "execution_count": 3,
   "metadata": {},
   "outputs": [
    {
     "output_type": "execute_result",
     "data": {
      "text/plain": "[(4.5, 0.0, 'RS(255, 247)', 1.0323886639676114),\n (4.5, 0.0, 'RS(255, 247)', 1.0323886639676114),\n (4.5, 0.0, 'RS(255, 225)', 1.1333333333333333),\n (4.5, 0.0, 'RS(255, 205)', 1.2439024390243902),\n (4.5, 0.0, 'RS(255, 225)', 1.1333333333333333),\n (4.5, 0.0, 'RS(255, 225)', 1.1333333333333333),\n (4.5, 0.0, 'RS(255, 247)', 1.0323886639676114),\n (4.5, 0.0, 'RS(240, 200)', 1.2),\n (4.5, 0.0, 'RS(255, 225)', 1.1333333333333333),\n (4.5, 0.0, 'RS(255, 247)', 1.0323886639676114)]"
     },
     "metadata": {},
     "execution_count": 3
    }
   ],
   "source": [
    "resultado.modelo_adaptativo()"
   ]
  },
  {
   "cell_type": "code",
   "execution_count": 4,
   "metadata": {},
   "outputs": [
    {
     "output_type": "execute_result",
     "data": {
      "text/plain": "[(4.3394, 8.056799999999999e-07, 'No Code', 1.0),\n (3.9939, 5.8536e-06, 'No Code', 1.0),\n (1.1915, 0.00098389, 'No Code', 1.0),\n (1.0823, 0.004616899999999999, 'No Code', 1.0),\n (1.5515, 0.00034796, 'No Code', 1.0),\n (1.1616, 0.0012472000000000002, 'No Code', 1.0),\n (4.0387, 3.1643e-06, 'No Code', 1.0),\n (1.0847, 0.0032052, 'No Code', 1.0),\n (1.3677, 0.00052493, 'No Code', 1.0),\n (2.1776, 0.0001183, 'No Code', 1.0)]"
     },
     "metadata": {},
     "execution_count": 4
    }
   ],
   "source": [
    "resultado.modelo_fixo(code=False)"
   ]
  },
  {
   "cell_type": "code",
   "execution_count": 5,
   "metadata": {},
   "outputs": [
    {
     "output_type": "execute_result",
     "data": {
      "text/plain": "[10.6, 9.8, 6.8, 5.3, 7.6, 6.6, 10.1, 5.7, 7.3, 8.3]"
     },
     "metadata": {},
     "execution_count": 5
    }
   ],
   "source": [
    "resultado.gera_vetor_snr()"
   ]
  },
  {
   "cell_type": "code",
   "execution_count": 6,
   "metadata": {},
   "outputs": [],
   "source": [
    "lista_de_tuplas = resultado.busca_resultados(10.9)"
   ]
  },
  {
   "cell_type": "code",
   "execution_count": 9,
   "metadata": {},
   "outputs": [
    {
     "output_type": "execute_result",
     "data": {
      "text/plain": "[(4.5, 0.0, 'RS(255, 247)', 1.0323886639676114),\n (4.5, 0.0, 'RS(255, 225)', 1.1333333333333333),\n (4.5, 0.0, 'RS(240, 200)', 1.2),\n (4.5, 0.0, 'RS(255, 205)', 1.2439024390243902),\n (4.5, 0.0, 'RS(360, 280)', 1.2857142857142858),\n (4.4597, 2.8541e-07, 'No Code', 1.0)]"
     },
     "metadata": {},
     "execution_count": 9
    }
   ],
   "source": [
    "get_best(lista_de_tuplas)"
   ]
  },
  {
   "cell_type": "code",
   "execution_count": 8,
   "metadata": {},
   "outputs": [],
   "source": [
    "def get_maior_mos(tupla):\n",
    "    return sorted(tupla, key=lambda element: element[0], reverse=True)\n",
    "\n",
    "def get_menor_rate(tupla):\n",
    "    return sorted(tupla, key=lambda element: element[3])\n",
    "\n",
    "def get_best(tupla):\n",
    "    return sorted(sorted(tupla, key=lambda element: element[3]),\n",
    "                  key=lambda element: element[0], reverse=True)"
   ]
  },
  {
   "cell_type": "code",
   "execution_count": 10,
   "metadata": {},
   "outputs": [],
   "source": [
    "def otimiza(lista_de_tuplas):\n",
    "    temp = []\n",
    "    \n",
    "    # Se maior resultado de MOS estiver menor do que 2.58, \n",
    "    # retorna configuração com menor rate [prioridade largura de banda]\n",
    "    \n",
    "    if get_maior_mos(lista_de_tuplas)[0][0] < 2.58:\n",
    "        result_tupla = get_menor_rate(lista_de_tuplas)[0]\n",
    "        \n",
    "    # Se maior resultado de MOS estiver maior do que 4.03,\n",
    "    # seleciona todas configurações com valor acima de 4.03 e seleciona com menor rate [prioridade largura de banda]     \n",
    "        \n",
    "    elif get_maior_mos(lista_de_tuplas)[0][0] > 4.03:\n",
    "        for tupla in lista_de_tuplas:\n",
    "            if tupla[0] > 4.03:\n",
    "                temp.append(tupla)\n",
    "        result_tupla = get_menor_rate(temp)[0]\n",
    "        \n",
    "    # Caso contrario é escolhido o maior resultado de MOS com o menor custo de banda        \n",
    "        \n",
    "    else:\n",
    "        result_tupla = get_best(lista_de_tuplas)[0]\n",
    "    return result_tupla\n",
    "        "
   ]
  },
  {
   "cell_type": "code",
   "execution_count": 11,
   "metadata": {},
   "outputs": [
    {
     "output_type": "execute_result",
     "data": {
      "text/plain": "(4.4597, 2.8541e-07, 'No Code', 1.0)"
     },
     "metadata": {},
     "execution_count": 11
    }
   ],
   "source": [
    "otimiza(lista_de_tuplas)"
   ]
  },
  {
   "cell_type": "code",
   "execution_count": null,
   "metadata": {},
   "outputs": [],
   "source": []
  }
 ],
 "metadata": {
  "kernelspec": {
   "display_name": "Python 3.8.3 64-bit ('env': venv)",
   "language": "python",
   "name": "python_defaultSpec_1596716818881"
  },
  "language_info": {
   "codemirror_mode": {
    "name": "ipython",
    "version": 3
   },
   "file_extension": ".py",
   "mimetype": "text/x-python",
   "name": "python",
   "nbconvert_exporter": "python",
   "pygments_lexer": "ipython3",
   "version": "3.8.3"
  }
 },
 "nbformat": 4,
 "nbformat_minor": 4
}