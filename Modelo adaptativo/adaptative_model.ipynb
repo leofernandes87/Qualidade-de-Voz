{
 "cells": [
  {
   "cell_type": "code",
   "execution_count": 3,
   "metadata": {},
   "outputs": [
    {
     "name": "stdout",
     "output_type": "stream",
     "text": [
      "Configurações possiveis: \n",
      "\n",
      "       MOS       BER           FEC      RATE\n",
      "0  1.01310  0.013426       No Code  1.000000\n",
      "1  1.01580  0.013738  RS(255, 247)  1.032389\n",
      "2  1.01100  0.013359  RS(255, 225)  1.133333\n",
      "3  0.98320  0.011507  RS(240, 200)  1.200000\n",
      "4  0.79682  0.008326  RS(255, 205)  1.243902\n",
      "5  0.65765  0.008112  RS(360, 280)  1.285714\n",
      "6  1.60310  0.000589  RS(255, 185)  1.378378\n",
      "7  4.36710  0.000004  RS(255, 165)  1.545455\n",
      "8  4.50000  0.000000  RS(400, 240)  1.666667 \n",
      "\n",
      "A banda disponível é de: 180 Kbps\n",
      "Melhor configuração:  RS(400, 240)\n",
      "MOS= 4.5\n"
     ]
    }
   ],
   "source": [
    "# Modelo de algoritmo de correção de erros adaptativo\n",
    "\n",
    "import os \n",
    "import pandas as pd\n",
    "import pickle\n",
    "import re\n",
    "from operator import itemgetter\n",
    "import random\n",
    "\n",
    "# Abrir arquivo de dados\n",
    "\n",
    "a_file = open(\"data.pkl\", \"rb\")\n",
    "data = pickle.load(a_file)\n",
    "\n",
    "# A\n",
    "\n",
    "modulacao = 'QPSK'\n",
    "sinalRuido = 6.9\n",
    "codecRate = 64 # Kbps\n",
    "codecPayload = 160  # Bytes\n",
    "pps = 50 # milisegundos\n",
    "cabecalhoIP = 40 # Bytes \n",
    "quantChamadas = 1\n",
    "bandaDisponivel = 180 # Kbps\n",
    "\n",
    "availableConfigs = []\n",
    "\n",
    "for mod, param in data.items():\n",
    "    if mod == modulacao:\n",
    "        for snr, config in param.items():\n",
    "            if snr == sinalRuido:\n",
    "                for tupla in config:\n",
    "                    rate = tupla[3]\n",
    "                    if quantChamadas > 1:\n",
    "                        bandaRequerida = ((((codecPayload * rate + cabecalhoIP) * 8) * pps) / 1000) * quantChamadas\n",
    "                        if bandaRequerida <= bandaDisponivel:\n",
    "                            availableConfigs.append(tupla)\n",
    "                    else:\n",
    "                        bandaRequerida = (((codecPayload * rate + cabecalhoIP) * 8) * pps) / 1000\n",
    "                        if bandaRequerida <= bandaDisponivel:\n",
    "                            availableConfigs.append(tupla)\n",
    "\n",
    "tabela = pd.DataFrame(availableConfigs, columns =['MOS', 'BER', 'FEC', 'RATE']) \n",
    "print('Configurações possiveis: \\n')\n",
    "print(tabela, '\\n')\n",
    "\n",
    "print('A banda disponível é de:',bandaDisponivel, 'Kbps')\n",
    "try:\n",
    "    value = sorted(sorted(availableConfigs, key=lambda element: element[3]), \n",
    "                   key=lambda element: element[0], reverse=True)[0]\n",
    "    print('Melhor configuração: ', value[2])\n",
    "    print('MOS=', value[0])\n",
    "except:\n",
    "    print('Impossivel: Largura de banda insuficiente')\n",
    "    "
   ]
  },
  {
   "cell_type": "code",
   "execution_count": 2,
   "metadata": {},
   "outputs": [],
   "source": [
    "# Fechar arquivo\n",
    "\n",
    "a_file.close()"
   ]
  }
 ],
 "metadata": {
  "kernelspec": {
   "display_name": "Python 3",
   "language": "python",
   "name": "python3"
  },
  "language_info": {
   "codemirror_mode": {
    "name": "ipython",
    "version": 3
   },
   "file_extension": ".py",
   "mimetype": "text/x-python",
   "name": "python",
   "nbconvert_exporter": "python",
   "pygments_lexer": "ipython3",
   "version": "3.8.3"
  }
 },
 "nbformat": 4,
 "nbformat_minor": 4
}
